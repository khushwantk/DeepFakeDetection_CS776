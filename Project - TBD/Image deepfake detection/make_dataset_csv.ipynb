{
 "cells": [
  {
   "cell_type": "markdown",
   "metadata": {},
   "source": [
    "Generate CSV file for Validation"
   ]
  },
  {
   "cell_type": "code",
   "execution_count": null,
   "metadata": {},
   "outputs": [
    {
     "name": "stdout",
     "output_type": "stream",
     "text": [
      "CSV file created successfully!\n"
     ]
    }
   ],
   "source": [
    "import os\n",
    "import pandas as pd\n",
    "\n",
    "# Define paths\n",
    "base_dir = \"kagglehub/datasets/xhlulu/140k-real-and-fake-faces/versions/2/real_vs_fake/real-vs-fake/valid\"  # Change this to your actual test folder path\n",
    "real_dir = os.path.join(base_dir, \"real\")\n",
    "fake_dir = os.path.join(base_dir, \"fake\")\n",
    "\n",
    "# Collect image paths and labels\n",
    "data = []\n",
    "\n",
    "for img_name in os.listdir(real_dir):\n",
    "    if img_name.endswith(\".jpg\"):\n",
    "        data.append([os.path.abspath(os.path.join(real_dir, img_name)), 0])  # Real images → label 0\n",
    "\n",
    "for img_name in os.listdir(fake_dir):\n",
    "    if img_name.endswith(\".jpg\"):\n",
    "        data.append([os.path.abspath(os.path.join(fake_dir, img_name)), 1])  # Fake images → label 1\n",
    "\n",
    "# Convert to DataFrame and save as CSV\n",
    "df = pd.DataFrame(data, columns=[\"image_path\", \"label\"])\n",
    "df.to_csv(os.path.join(base_dir, \"valid_labels.csv\"), index=False)\n",
    "\n",
    "print(\"CSV file created successfully!\")\n"
   ]
  },
  {
   "cell_type": "markdown",
   "metadata": {},
   "source": [
    "Generate CSV file for Test"
   ]
  },
  {
   "cell_type": "code",
   "execution_count": null,
   "metadata": {},
   "outputs": [
    {
     "name": "stdout",
     "output_type": "stream",
     "text": [
      "CSV file created successfully!\n"
     ]
    }
   ],
   "source": [
    "import os\n",
    "import pandas as pd\n",
    "\n",
    "# Define path/home/rishit/cv_deepfake/s\n",
    "base_dir = \"kagglehub/datasets/xhlulu/140k-real-and-fake-faces/versions/2/real_vs_fake/real-vs-fake/test\"  # Change this to your actual test folder path\n",
    "real_dir = os.path.join(base_dir, \"real\")\n",
    "fake_dir = os.path.join(base_dir, \"fake\")\n",
    "\n",
    "# Collect image paths and labels\n",
    "data = []\n",
    "\n",
    "for img_name in os.listdir(real_dir):\n",
    "    if img_name.endswith(\".jpg\"):\n",
    "        data.append([os.path.abspath(os.path.join(real_dir, img_name)), 0])  # Real images → label 0\n",
    "\n",
    "for img_name in os.listdir(fake_dir):\n",
    "    if img_name.endswith(\".jpg\"):\n",
    "        data.append([os.path.abspath(os.path.join(fake_dir, img_name)), 1])  # Fake images → label 1\n",
    "\n",
    "# Convert to DataFrame and save as CSV\n",
    "df = pd.DataFrame(data, columns=[\"image_path\", \"label\"])\n",
    "df.to_csv(os.path.join(\"./\", \"test_labels.csv\"), index=False)\n",
    "\n",
    "print(\"CSV file created successfully!\")\n"
   ]
  },
  {
   "cell_type": "markdown",
   "metadata": {},
   "source": [
    "Generate CSV file for Training"
   ]
  },
  {
   "cell_type": "code",
   "execution_count": null,
   "metadata": {},
   "outputs": [
    {
     "name": "stdout",
     "output_type": "stream",
     "text": [
      "CSV file created successfully at ./train2_labels.csv!\n"
     ]
    }
   ],
   "source": [
    "import os\n",
    "import random\n",
    "import pandas as pd\n",
    "\n",
    "# Define base directory (Update this as needed)\n",
    "base_dir = \"kagglehub/datasets/xhlulu/140k-real-and-fake-faces/versions/2/real_vs_fake/real-vs-fake/train\"\n",
    "real_dir = os.path.join(base_dir, \"real\")\n",
    "fake_dir = os.path.join(base_dir, \"fake\")\n",
    "\n",
    "# Get list of image paths\n",
    "real_images = [os.path.abspath(os.path.join(real_dir, img)) for img in os.listdir(real_dir) if img.endswith(\".jpg\")]\n",
    "fake_images = [os.path.abspath(os.path.join(fake_dir, img)) for img in os.listdir(fake_dir) if img.endswith(\".jpg\")]\n",
    "\n",
    "# Randomly sample 30,000 from each category\n",
    "real_sample = random.sample(real_images, 30000)\n",
    "fake_sample = random.sample(fake_images, 30000)\n",
    "\n",
    "# Create dataset with labels\n",
    "data = [[img_path, 0] for img_path in real_sample] + [[img_path, 1] for img_path in fake_sample]\n",
    "\n",
    "# Shuffle dataset\n",
    "random.shuffle(data)\n",
    "\n",
    "# Convert to DataFrame\n",
    "df = pd.DataFrame(data, columns=[\"image_path\", \"label\"])\n",
    "\n",
    "# Save as CSV\n",
    "csv_path = os.path.join(\"./\", \"train_labels.csv\")\n",
    "df.to_csv(csv_path, index=False)\n",
    "\n",
    "print(f\"CSV file created successfully at {csv_path}!\")\n"
   ]
  }
 ],
 "metadata": {
  "kernelspec": {
   "display_name": "Python 3",
   "language": "python",
   "name": "python3"
  },
  "language_info": {
   "codemirror_mode": {
    "name": "ipython",
    "version": 3
   },
   "file_extension": ".py",
   "mimetype": "text/x-python",
   "name": "python",
   "nbconvert_exporter": "python",
   "pygments_lexer": "ipython3",
   "version": "3.10.12"
  }
 },
 "nbformat": 4,
 "nbformat_minor": 2
}
